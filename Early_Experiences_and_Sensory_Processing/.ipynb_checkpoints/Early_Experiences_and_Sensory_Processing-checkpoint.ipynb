{
 "cells": [
  {
   "cell_type": "markdown",
   "metadata": {},
   "source": [
    "#  Exploring Relationships Between Common Early Adverse Experiences and Sensory Processing Challenges\n",
    "\n",
    "Data Preprocessing, Visualization, and Cleaning\n",
    "\n",
    "Adriana Méndez Leal"
   ]
  },
  {
   "cell_type": "markdown",
   "metadata": {},
   "source": [
    "## Background\n",
    "In a recent analysis (currently in revision) we found that adolescents adopted internationally from institutional care (e.g. orphanages) or domestically from foster care had elevated levels of sensory processing challenges relative to non-adopted comparison youth. In particular, we found that adolescents who had experienced early caregiving adversity (circumstances leading to and including institutional or foster care) had heightened symptoms of sensory over-responsivity (intensified/prolonged reactions to everyday sensory stimuli), and that these sensory symptoms were in turn associated with poorer mental health outcomes within individuals.\n",
    "\n",
    "\n",
    "## Current Project Rationale and Primary Research Questions\n",
    "The majority of the population experiences some form of early adversity (e.g. trauma, neglect), and most people with these experiences are not placed in institutional or foster care. Understanding how these experiences may relate to sensory symptoms, and in turn to mental health, may help to inform future intervention development.\n",
    "\n",
    "The current research project seeks to explore the following primary research questions:\n",
    "\n",
    "1. Are more common experiences of early adversity also associated with increased sensory symptoms in adolescence?\n",
    "\n",
    "2. Do these symptoms persist into adulthood? \n",
    "\n",
    "\n",
    "This notebook covers data preprocessing, cleaning, and visualization. Primary analyses are covered in the other notebook in this folder.\n"
   ]
  },
  {
   "cell_type": "markdown",
   "metadata": {},
   "source": [
    "## Dataset"
   ]
  },
  {
   "cell_type": "code",
   "execution_count": 2,
   "metadata": {},
   "outputs": [],
   "source": [
    "import pandas as pd\n",
    "import numpy as np\n",
    "import os\n",
    "from glob import glob\n",
    "import matplotlib as mp\n",
    "import matplotlib.pyplot as plt\n",
    "import re\n",
    "from dateutil.relativedelta import *\n",
    "from datetime import date\n",
    "import sklearn\n",
    "from sklearn.linear_model import LinearRegression as lr\n",
    "from sklearn.metrics import r2_score\n",
    "from scipy import stats\n",
    "colors = {0 :'blue', 1 :'red', 2: 'green'}\n",
    "import seaborn as sns; sns.set(color_codes=True)\n",
    "import xlrd \n",
    "import re\n",
    "import time\n",
    "import datetime\n",
    "from dateutil.relativedelta import relativedelta\n",
    "from calendar import isleap\n",
    "import statsmodels.api as sm"
   ]
  },
  {
   "cell_type": "code",
   "execution_count": 3,
   "metadata": {},
   "outputs": [],
   "source": [
    "# adds questionnaire subscale prefix to item numbers for subscale scoring\n",
    "def add_pref_to_item_nums (pref, item_list):\n",
    "    new_list = [pref + str(sub) for sub in item_list] \n",
    "    return new_list\n"
   ]
  },
  {
   "cell_type": "code",
   "execution_count": 10,
   "metadata": {},
   "outputs": [
    {
     "data": {
      "text/html": [
       "<div>\n",
       "<style scoped>\n",
       "    .dataframe tbody tr th:only-of-type {\n",
       "        vertical-align: middle;\n",
       "    }\n",
       "\n",
       "    .dataframe tbody tr th {\n",
       "        vertical-align: top;\n",
       "    }\n",
       "\n",
       "    .dataframe thead th {\n",
       "        text-align: right;\n",
       "    }\n",
       "</style>\n",
       "<table border=\"1\" class=\"dataframe\">\n",
       "  <thead>\n",
       "    <tr style=\"text-align: right;\">\n",
       "      <th></th>\n",
       "      <th>StartDate</th>\n",
       "      <th>EndDate</th>\n",
       "      <th>Status</th>\n",
       "      <th>IPAddress</th>\n",
       "      <th>Progress</th>\n",
       "      <th>Duration (in seconds)</th>\n",
       "      <th>Finished</th>\n",
       "      <th>RecordedDate</th>\n",
       "      <th>ResponseId</th>\n",
       "      <th>RecipientLastName</th>\n",
       "      <th>...</th>\n",
       "      <th>PSS_11</th>\n",
       "      <th>PSS_12</th>\n",
       "      <th>PSS_13</th>\n",
       "      <th>PSS_14</th>\n",
       "      <th>Q_TotalDuration</th>\n",
       "      <th>Q_BallotBoxStuffing</th>\n",
       "      <th>Q_RecaptchaScore</th>\n",
       "      <th>Q_RelevantIDDuplicate</th>\n",
       "      <th>Q_RelevantIDDuplicateScore</th>\n",
       "      <th>Q_RelevantIDFraudScore</th>\n",
       "    </tr>\n",
       "    <tr>\n",
       "      <th>Random ID</th>\n",
       "      <th></th>\n",
       "      <th></th>\n",
       "      <th></th>\n",
       "      <th></th>\n",
       "      <th></th>\n",
       "      <th></th>\n",
       "      <th></th>\n",
       "      <th></th>\n",
       "      <th></th>\n",
       "      <th></th>\n",
       "      <th></th>\n",
       "      <th></th>\n",
       "      <th></th>\n",
       "      <th></th>\n",
       "      <th></th>\n",
       "      <th></th>\n",
       "      <th></th>\n",
       "      <th></th>\n",
       "      <th></th>\n",
       "      <th></th>\n",
       "      <th></th>\n",
       "    </tr>\n",
       "  </thead>\n",
       "  <tbody>\n",
       "    <tr>\n",
       "      <th>Random ID</th>\n",
       "      <td>Start Date</td>\n",
       "      <td>End Date</td>\n",
       "      <td>Response Type</td>\n",
       "      <td>IP Address</td>\n",
       "      <td>Progress</td>\n",
       "      <td>Duration (in seconds)</td>\n",
       "      <td>Finished</td>\n",
       "      <td>Recorded Date</td>\n",
       "      <td>Response ID</td>\n",
       "      <td>Recipient Last Name</td>\n",
       "      <td>...</td>\n",
       "      <td>The questions in this scale ask you about your...</td>\n",
       "      <td>The questions in this scale ask you about your...</td>\n",
       "      <td>The questions in this scale ask you about your...</td>\n",
       "      <td>The questions in this scale ask you about your...</td>\n",
       "      <td>Q_TotalDuration</td>\n",
       "      <td>Q_BallotBoxStuffing</td>\n",
       "      <td>Q_RecaptchaScore</td>\n",
       "      <td>Q_RelevantIDDuplicate</td>\n",
       "      <td>Q_RelevantIDDuplicateScore</td>\n",
       "      <td>Q_RelevantIDFraudScore</td>\n",
       "    </tr>\n",
       "    <tr>\n",
       "      <th>60081</th>\n",
       "      <td>2021-02-17 15:34:01</td>\n",
       "      <td>2021-02-17 15:43:45</td>\n",
       "      <td>1</td>\n",
       "      <td>NaN</td>\n",
       "      <td>100</td>\n",
       "      <td>583</td>\n",
       "      <td>1</td>\n",
       "      <td>2021-02-17 15:43:47.781000</td>\n",
       "      <td>R_2Yo0Gc3XFF0LHCu</td>\n",
       "      <td>NaN</td>\n",
       "      <td>...</td>\n",
       "      <td>999</td>\n",
       "      <td>999</td>\n",
       "      <td>999</td>\n",
       "      <td>999</td>\n",
       "      <td>583</td>\n",
       "      <td>NaN</td>\n",
       "      <td>NaN</td>\n",
       "      <td>NaN</td>\n",
       "      <td>NaN</td>\n",
       "      <td>NaN</td>\n",
       "    </tr>\n",
       "    <tr>\n",
       "      <th>49191</th>\n",
       "      <td>2021-02-22 20:28:51</td>\n",
       "      <td>2021-02-22 20:29:45</td>\n",
       "      <td>0</td>\n",
       "      <td>75.111.65.47</td>\n",
       "      <td>100</td>\n",
       "      <td>53</td>\n",
       "      <td>1</td>\n",
       "      <td>2021-02-22 20:29:45.311000</td>\n",
       "      <td>R_2ahFuUZMEckHeAh</td>\n",
       "      <td>NaN</td>\n",
       "      <td>...</td>\n",
       "      <td>NaN</td>\n",
       "      <td>NaN</td>\n",
       "      <td>NaN</td>\n",
       "      <td>NaN</td>\n",
       "      <td>53</td>\n",
       "      <td>NaN</td>\n",
       "      <td>NaN</td>\n",
       "      <td>NaN</td>\n",
       "      <td>NaN</td>\n",
       "      <td>NaN</td>\n",
       "    </tr>\n",
       "    <tr>\n",
       "      <th>61083</th>\n",
       "      <td>2021-02-22 21:30:43</td>\n",
       "      <td>2021-02-22 22:05:13</td>\n",
       "      <td>0</td>\n",
       "      <td>107.213.231.101</td>\n",
       "      <td>100</td>\n",
       "      <td>2069</td>\n",
       "      <td>1</td>\n",
       "      <td>2021-02-22 22:05:14.415000</td>\n",
       "      <td>R_yNG481u7iOZ98Fr</td>\n",
       "      <td>NaN</td>\n",
       "      <td>...</td>\n",
       "      <td>3</td>\n",
       "      <td>5</td>\n",
       "      <td>4</td>\n",
       "      <td>2</td>\n",
       "      <td>2069</td>\n",
       "      <td>NaN</td>\n",
       "      <td>NaN</td>\n",
       "      <td>NaN</td>\n",
       "      <td>NaN</td>\n",
       "      <td>NaN</td>\n",
       "    </tr>\n",
       "    <tr>\n",
       "      <th>41621</th>\n",
       "      <td>2021-02-23 11:47:47</td>\n",
       "      <td>2021-02-23 12:09:52</td>\n",
       "      <td>0</td>\n",
       "      <td>76.30.22.88</td>\n",
       "      <td>100</td>\n",
       "      <td>1324</td>\n",
       "      <td>1</td>\n",
       "      <td>2021-02-23 12:09:52.869000</td>\n",
       "      <td>R_3qVjwxabeoMBfqp</td>\n",
       "      <td>NaN</td>\n",
       "      <td>...</td>\n",
       "      <td>3</td>\n",
       "      <td>4</td>\n",
       "      <td>5</td>\n",
       "      <td>2</td>\n",
       "      <td>1324</td>\n",
       "      <td>NaN</td>\n",
       "      <td>NaN</td>\n",
       "      <td>NaN</td>\n",
       "      <td>NaN</td>\n",
       "      <td>NaN</td>\n",
       "    </tr>\n",
       "    <tr>\n",
       "      <th>...</th>\n",
       "      <td>...</td>\n",
       "      <td>...</td>\n",
       "      <td>...</td>\n",
       "      <td>...</td>\n",
       "      <td>...</td>\n",
       "      <td>...</td>\n",
       "      <td>...</td>\n",
       "      <td>...</td>\n",
       "      <td>...</td>\n",
       "      <td>...</td>\n",
       "      <td>...</td>\n",
       "      <td>...</td>\n",
       "      <td>...</td>\n",
       "      <td>...</td>\n",
       "      <td>...</td>\n",
       "      <td>...</td>\n",
       "      <td>...</td>\n",
       "      <td>...</td>\n",
       "      <td>...</td>\n",
       "      <td>...</td>\n",
       "      <td>...</td>\n",
       "    </tr>\n",
       "    <tr>\n",
       "      <th>33426</th>\n",
       "      <td>2021-03-01 11:34:49</td>\n",
       "      <td>2021-03-01 12:00:23</td>\n",
       "      <td>0</td>\n",
       "      <td>74.129.2.81</td>\n",
       "      <td>100</td>\n",
       "      <td>1534</td>\n",
       "      <td>1</td>\n",
       "      <td>2021-03-01 12:00:46.659000</td>\n",
       "      <td>R_3kea5Jl3K7xlB3e</td>\n",
       "      <td>NaN</td>\n",
       "      <td>...</td>\n",
       "      <td>3</td>\n",
       "      <td>4</td>\n",
       "      <td>4</td>\n",
       "      <td>3</td>\n",
       "      <td>1534</td>\n",
       "      <td>NaN</td>\n",
       "      <td>NaN</td>\n",
       "      <td>NaN</td>\n",
       "      <td>NaN</td>\n",
       "      <td>NaN</td>\n",
       "    </tr>\n",
       "    <tr>\n",
       "      <th>59752</th>\n",
       "      <td>2021-03-01 12:15:47</td>\n",
       "      <td>2021-03-01 12:24:59</td>\n",
       "      <td>0</td>\n",
       "      <td>104.0.8.18</td>\n",
       "      <td>100</td>\n",
       "      <td>551</td>\n",
       "      <td>1</td>\n",
       "      <td>2021-03-01 12:24:59.824000</td>\n",
       "      <td>R_scV8QAJyM3nmpDX</td>\n",
       "      <td>NaN</td>\n",
       "      <td>...</td>\n",
       "      <td>2</td>\n",
       "      <td>4</td>\n",
       "      <td>3</td>\n",
       "      <td>3</td>\n",
       "      <td>551</td>\n",
       "      <td>NaN</td>\n",
       "      <td>NaN</td>\n",
       "      <td>NaN</td>\n",
       "      <td>NaN</td>\n",
       "      <td>NaN</td>\n",
       "    </tr>\n",
       "    <tr>\n",
       "      <th>42737</th>\n",
       "      <td>2021-03-01 12:21:43</td>\n",
       "      <td>2021-03-01 12:45:40</td>\n",
       "      <td>0</td>\n",
       "      <td>108.2.58.69</td>\n",
       "      <td>100</td>\n",
       "      <td>1436</td>\n",
       "      <td>1</td>\n",
       "      <td>2021-03-01 12:45:40.838000</td>\n",
       "      <td>R_1DGccvFYZolsPHE</td>\n",
       "      <td>NaN</td>\n",
       "      <td>...</td>\n",
       "      <td>3</td>\n",
       "      <td>5</td>\n",
       "      <td>4</td>\n",
       "      <td>1</td>\n",
       "      <td>1436</td>\n",
       "      <td>NaN</td>\n",
       "      <td>NaN</td>\n",
       "      <td>NaN</td>\n",
       "      <td>NaN</td>\n",
       "      <td>NaN</td>\n",
       "    </tr>\n",
       "    <tr>\n",
       "      <th>51536</th>\n",
       "      <td>2021-03-01 12:41:40</td>\n",
       "      <td>2021-03-01 13:05:40</td>\n",
       "      <td>0</td>\n",
       "      <td>192.94.102.5</td>\n",
       "      <td>100</td>\n",
       "      <td>1439</td>\n",
       "      <td>1</td>\n",
       "      <td>2021-03-01 13:05:41.265000</td>\n",
       "      <td>R_d6b9KBv058UwvWF</td>\n",
       "      <td>NaN</td>\n",
       "      <td>...</td>\n",
       "      <td>2</td>\n",
       "      <td>4</td>\n",
       "      <td>4</td>\n",
       "      <td>2</td>\n",
       "      <td>1439</td>\n",
       "      <td>NaN</td>\n",
       "      <td>NaN</td>\n",
       "      <td>NaN</td>\n",
       "      <td>NaN</td>\n",
       "      <td>NaN</td>\n",
       "    </tr>\n",
       "    <tr>\n",
       "      <th>63128</th>\n",
       "      <td>2021-03-01 13:16:57</td>\n",
       "      <td>2021-03-01 13:43:28</td>\n",
       "      <td>0</td>\n",
       "      <td>70.44.109.206</td>\n",
       "      <td>100</td>\n",
       "      <td>1591</td>\n",
       "      <td>1</td>\n",
       "      <td>2021-03-01 13:43:29.576000</td>\n",
       "      <td>R_20NfQZODYetlw8F</td>\n",
       "      <td>NaN</td>\n",
       "      <td>...</td>\n",
       "      <td>3</td>\n",
       "      <td>3</td>\n",
       "      <td>3</td>\n",
       "      <td>1</td>\n",
       "      <td>1591</td>\n",
       "      <td>NaN</td>\n",
       "      <td>NaN</td>\n",
       "      <td>NaN</td>\n",
       "      <td>NaN</td>\n",
       "      <td>NaN</td>\n",
       "    </tr>\n",
       "  </tbody>\n",
       "</table>\n",
       "<p>355 rows × 431 columns</p>\n",
       "</div>"
      ],
      "text/plain": [
       "                     StartDate              EndDate         Status  \\\n",
       "Random ID                                                            \n",
       "Random ID           Start Date             End Date  Response Type   \n",
       "60081      2021-02-17 15:34:01  2021-02-17 15:43:45              1   \n",
       "49191      2021-02-22 20:28:51  2021-02-22 20:29:45              0   \n",
       "61083      2021-02-22 21:30:43  2021-02-22 22:05:13              0   \n",
       "41621      2021-02-23 11:47:47  2021-02-23 12:09:52              0   \n",
       "...                        ...                  ...            ...   \n",
       "33426      2021-03-01 11:34:49  2021-03-01 12:00:23              0   \n",
       "59752      2021-03-01 12:15:47  2021-03-01 12:24:59              0   \n",
       "42737      2021-03-01 12:21:43  2021-03-01 12:45:40              0   \n",
       "51536      2021-03-01 12:41:40  2021-03-01 13:05:40              0   \n",
       "63128      2021-03-01 13:16:57  2021-03-01 13:43:28              0   \n",
       "\n",
       "                 IPAddress  Progress  Duration (in seconds)  Finished  \\\n",
       "Random ID                                                               \n",
       "Random ID       IP Address  Progress  Duration (in seconds)  Finished   \n",
       "60081                  NaN       100                    583         1   \n",
       "49191         75.111.65.47       100                     53         1   \n",
       "61083      107.213.231.101       100                   2069         1   \n",
       "41621          76.30.22.88       100                   1324         1   \n",
       "...                    ...       ...                    ...       ...   \n",
       "33426          74.129.2.81       100                   1534         1   \n",
       "59752           104.0.8.18       100                    551         1   \n",
       "42737          108.2.58.69       100                   1436         1   \n",
       "51536         192.94.102.5       100                   1439         1   \n",
       "63128        70.44.109.206       100                   1591         1   \n",
       "\n",
       "                         RecordedDate         ResponseId    RecipientLastName  \\\n",
       "Random ID                                                                       \n",
       "Random ID               Recorded Date        Response ID  Recipient Last Name   \n",
       "60081      2021-02-17 15:43:47.781000  R_2Yo0Gc3XFF0LHCu                  NaN   \n",
       "49191      2021-02-22 20:29:45.311000  R_2ahFuUZMEckHeAh                  NaN   \n",
       "61083      2021-02-22 22:05:14.415000  R_yNG481u7iOZ98Fr                  NaN   \n",
       "41621      2021-02-23 12:09:52.869000  R_3qVjwxabeoMBfqp                  NaN   \n",
       "...                               ...                ...                  ...   \n",
       "33426      2021-03-01 12:00:46.659000  R_3kea5Jl3K7xlB3e                  NaN   \n",
       "59752      2021-03-01 12:24:59.824000  R_scV8QAJyM3nmpDX                  NaN   \n",
       "42737      2021-03-01 12:45:40.838000  R_1DGccvFYZolsPHE                  NaN   \n",
       "51536      2021-03-01 13:05:41.265000  R_d6b9KBv058UwvWF                  NaN   \n",
       "63128      2021-03-01 13:43:29.576000  R_20NfQZODYetlw8F                  NaN   \n",
       "\n",
       "           ...                                             PSS_11  \\\n",
       "Random ID  ...                                                      \n",
       "Random ID  ...  The questions in this scale ask you about your...   \n",
       "60081      ...                                                999   \n",
       "49191      ...                                                NaN   \n",
       "61083      ...                                                  3   \n",
       "41621      ...                                                  3   \n",
       "...        ...                                                ...   \n",
       "33426      ...                                                  3   \n",
       "59752      ...                                                  2   \n",
       "42737      ...                                                  3   \n",
       "51536      ...                                                  2   \n",
       "63128      ...                                                  3   \n",
       "\n",
       "                                                      PSS_12  \\\n",
       "Random ID                                                      \n",
       "Random ID  The questions in this scale ask you about your...   \n",
       "60081                                                    999   \n",
       "49191                                                    NaN   \n",
       "61083                                                      5   \n",
       "41621                                                      4   \n",
       "...                                                      ...   \n",
       "33426                                                      4   \n",
       "59752                                                      4   \n",
       "42737                                                      5   \n",
       "51536                                                      4   \n",
       "63128                                                      3   \n",
       "\n",
       "                                                      PSS_13  \\\n",
       "Random ID                                                      \n",
       "Random ID  The questions in this scale ask you about your...   \n",
       "60081                                                    999   \n",
       "49191                                                    NaN   \n",
       "61083                                                      4   \n",
       "41621                                                      5   \n",
       "...                                                      ...   \n",
       "33426                                                      4   \n",
       "59752                                                      3   \n",
       "42737                                                      4   \n",
       "51536                                                      4   \n",
       "63128                                                      3   \n",
       "\n",
       "                                                      PSS_14  Q_TotalDuration  \\\n",
       "Random ID                                                                       \n",
       "Random ID  The questions in this scale ask you about your...  Q_TotalDuration   \n",
       "60081                                                    999              583   \n",
       "49191                                                    NaN               53   \n",
       "61083                                                      2             2069   \n",
       "41621                                                      2             1324   \n",
       "...                                                      ...              ...   \n",
       "33426                                                      3             1534   \n",
       "59752                                                      3              551   \n",
       "42737                                                      1             1436   \n",
       "51536                                                      2             1439   \n",
       "63128                                                      1             1591   \n",
       "\n",
       "           Q_BallotBoxStuffing  Q_RecaptchaScore  Q_RelevantIDDuplicate  \\\n",
       "Random ID                                                                 \n",
       "Random ID  Q_BallotBoxStuffing  Q_RecaptchaScore  Q_RelevantIDDuplicate   \n",
       "60081                      NaN               NaN                    NaN   \n",
       "49191                      NaN               NaN                    NaN   \n",
       "61083                      NaN               NaN                    NaN   \n",
       "41621                      NaN               NaN                    NaN   \n",
       "...                        ...               ...                    ...   \n",
       "33426                      NaN               NaN                    NaN   \n",
       "59752                      NaN               NaN                    NaN   \n",
       "42737                      NaN               NaN                    NaN   \n",
       "51536                      NaN               NaN                    NaN   \n",
       "63128                      NaN               NaN                    NaN   \n",
       "\n",
       "           Q_RelevantIDDuplicateScore  Q_RelevantIDFraudScore  \n",
       "Random ID                                                      \n",
       "Random ID  Q_RelevantIDDuplicateScore  Q_RelevantIDFraudScore  \n",
       "60081                             NaN                     NaN  \n",
       "49191                             NaN                     NaN  \n",
       "61083                             NaN                     NaN  \n",
       "41621                             NaN                     NaN  \n",
       "...                               ...                     ...  \n",
       "33426                             NaN                     NaN  \n",
       "59752                             NaN                     NaN  \n",
       "42737                             NaN                     NaN  \n",
       "51536                             NaN                     NaN  \n",
       "63128                             NaN                     NaN  \n",
       "\n",
       "[355 rows x 431 columns]"
      ]
     },
     "execution_count": 10,
     "metadata": {},
     "output_type": "execute_result"
    }
   ],
   "source": [
    "wave1_data = pd.read_excel('/Users/adrianamendezleal/Documents/Data_Analysis/sensory_MTurk/Final_Wave1_Data_3_1_20/Sensory_MTURK_Wave1_Final_3_1_20.xlsx', header = 0)\n",
    "wave1_data.set_index('Random ID', inplace =True)\n",
    "wave1_data"
   ]
  },
  {
   "cell_type": "code",
   "execution_count": null,
   "metadata": {},
   "outputs": [],
   "source": []
  },
  {
   "cell_type": "code",
   "execution_count": null,
   "metadata": {},
   "outputs": [],
   "source": []
  },
  {
   "cell_type": "code",
   "execution_count": null,
   "metadata": {},
   "outputs": [],
   "source": [
    "worker_data = pd.read_csv('/Users/adrianamendezleal/Documents/Data_Analysis/sensory_MTurk/Final_Wave1_Data_3_1_20/Batch_4345800_batch_results_Final_3_1_20.csv')\n",
    "worker_data.index = worker_data['Answer.surveycode']\n",
    "worker_dem_col_names = ['AssignmentId','HITId','WorkerId','RequesterFeedback','AcceptTime','AssignmentStatus','SubmitTime','WorkTimeInSeconds']\n",
    "worker_data = worker_data[worker_dem_col_names]\n",
    "\n",
    "\n",
    "\n",
    "\n",
    "wave1_data = wave1_data.merge(worker_data, left_index = True, right_index = True, how = 'outer')\n",
    "wave1_data\n"
   ]
  },
  {
   "cell_type": "markdown",
   "metadata": {},
   "source": [
    "## Attention Checks"
   ]
  },
  {
   "cell_type": "code",
   "execution_count": null,
   "metadata": {},
   "outputs": [],
   "source": []
  },
  {
   "cell_type": "code",
   "execution_count": 13,
   "metadata": {},
   "outputs": [
    {
     "data": {
      "text/html": [
       "<div>\n",
       "<style scoped>\n",
       "    .dataframe tbody tr th:only-of-type {\n",
       "        vertical-align: middle;\n",
       "    }\n",
       "\n",
       "    .dataframe tbody tr th {\n",
       "        vertical-align: top;\n",
       "    }\n",
       "\n",
       "    .dataframe thead th {\n",
       "        text-align: right;\n",
       "    }\n",
       "</style>\n",
       "<table border=\"1\" class=\"dataframe\">\n",
       "  <thead>\n",
       "    <tr style=\"text-align: right;\">\n",
       "      <th></th>\n",
       "      <th>ATN_CHECK_1</th>\n",
       "      <th>SSP_TAS_CHECK</th>\n",
       "      <th>SSP_MOV_CHECK</th>\n",
       "      <th>SSP_VIS_CHECK</th>\n",
       "      <th>SSP_TCH_CHECK</th>\n",
       "      <th>SSP_ACT_CHECK</th>\n",
       "      <th>SSP_AUD_CHECK</th>\n",
       "      <th>MASQ_CHECK</th>\n",
       "      <th>MASQ_CHECK_2</th>\n",
       "      <th>ATN_CHECK_3</th>\n",
       "      <th>PSS_CHECK</th>\n",
       "    </tr>\n",
       "  </thead>\n",
       "  <tbody>\n",
       "    <tr>\n",
       "      <th>Text</th>\n",
       "      <td>7+12=?</td>\n",
       "      <td>Rate this item as \"Almost always\"</td>\n",
       "      <td>Rate this item as \"Frequently\"</td>\n",
       "      <td>Rate this item as \"Seldom\"</td>\n",
       "      <td>Rate this item as \"Almost always\"</td>\n",
       "      <td>Rate this item as \"Occasionally\"</td>\n",
       "      <td>Rate this item as \"N/A\"</td>\n",
       "      <td>Rate this item as \"Quite a bit\"</td>\n",
       "      <td>Rate this item as \"Not at all\"</td>\n",
       "      <td>What animals can fly?</td>\n",
       "      <td>Rate this item as \"very often\"</td>\n",
       "    </tr>\n",
       "    <tr>\n",
       "      <th>Answer key</th>\n",
       "      <td>Directed to end of survey</td>\n",
       "      <td>5</td>\n",
       "      <td>4</td>\n",
       "      <td>2</td>\n",
       "      <td>5</td>\n",
       "      <td>3</td>\n",
       "      <td>0</td>\n",
       "      <td>4</td>\n",
       "      <td>1</td>\n",
       "      <td>Directed to end of survey</td>\n",
       "      <td>5</td>\n",
       "    </tr>\n",
       "  </tbody>\n",
       "</table>\n",
       "</div>"
      ],
      "text/plain": [
       "                          ATN_CHECK_1                      SSP_TAS_CHECK  \\\n",
       "Text                           7+12=?  Rate this item as \"Almost always\"   \n",
       "Answer key  Directed to end of survey                                  5   \n",
       "\n",
       "                             SSP_MOV_CHECK               SSP_VIS_CHECK  \\\n",
       "Text        Rate this item as \"Frequently\"  Rate this item as \"Seldom\"   \n",
       "Answer key                               4                           2   \n",
       "\n",
       "                                SSP_TCH_CHECK  \\\n",
       "Text        Rate this item as \"Almost always\"   \n",
       "Answer key                                  5   \n",
       "\n",
       "                               SSP_ACT_CHECK            SSP_AUD_CHECK  \\\n",
       "Text        Rate this item as \"Occasionally\"  Rate this item as \"N/A\"   \n",
       "Answer key                                 3                        0   \n",
       "\n",
       "                                 MASQ_CHECK                    MASQ_CHECK_2  \\\n",
       "Text        Rate this item as \"Quite a bit\"  Rate this item as \"Not at all\"   \n",
       "Answer key                                4                               1   \n",
       "\n",
       "                          ATN_CHECK_3                       PSS_CHECK  \n",
       "Text            What animals can fly?  Rate this item as \"very often\"  \n",
       "Answer key  Directed to end of survey                               5  "
      ]
     },
     "execution_count": 13,
     "metadata": {},
     "output_type": "execute_result"
    }
   ],
   "source": [
    "attn_check_key = pd.read_excel('/Users/adrianamendezleal/Downloads/Mturk_ATN_KEY.xlsx', index_col =0)\n",
    "attn_check_key"
   ]
  },
  {
   "cell_type": "code",
   "execution_count": null,
   "metadata": {},
   "outputs": [],
   "source": [
    "#as_list = wave1_data.index.tolist()\n",
    "#list_of_old_ids = ['A3K9D8GTORL5BN','AAM0Q3DCSSQ0A','A77K8W55MJEKX','A3P4XZJM2DEATZ','A39GADIK8RLMVC','A2NHFSO7GMM8QR',\\\n",
    "              #     'A1TW2BZRRS874Z']\n",
    "#list_of_new_ids = [30861,'AAM0Q3DCSSQ0A',53242,12741,99823,'A2NHFSO7GMM8QR',99711]\n",
    "#for curr_rep in zip(list_of_old_ids,list_of_new_ids):\n",
    "    #idx = as_list.index(curr_rep[0])\n",
    "   # print('hi')\n",
    "#as_list[idx] = 'South Korea'\n",
    "#df.index = as_list\n",
    "#as_list"
   ]
  },
  {
   "cell_type": "code",
   "execution_count": null,
   "metadata": {},
   "outputs": [],
   "source": [
    "check_col_names= ['SSP_TAS_CHECK','SSP_MOV_CHECK','SSP_VIS_CHECK','SSP_TCH_CHECK','SSP_ACT_CHECK','SSP_AUD_CHECK','MASQ_CHECK','MASQ_CHECK_2','PSS_CHECK']\n",
    "attn_check_key = attn_check_key[check_col_names]\n",
    "attn_check_key\n",
    "                                 "
   ]
  },
  {
   "cell_type": "code",
   "execution_count": null,
   "metadata": {},
   "outputs": [],
   "source": [
    "wave1_data['Reject_TF'] = (wave1_data.SSP_TAS_CHECK != 5) \\\n",
    "| (wave1_data.SSP_MOV_CHECK != 4) \\\n",
    "    | (wave1_data.SSP_VIS_CHECK != 2) \\\n",
    "    | (wave1_data.SSP_TCH_CHECK != 5) \\\n",
    "    | (wave1_data.SSP_ACT_CHECK != 3) \\\n",
    "    | (wave1_data.SSP_AUD_CHECK != 0) \\\n",
    "    | (wave1_data.MASQ_CHECK != 4) \\\n",
    "    | (wave1_data.MASQ_CHECK_2 != 1) \\\n",
    "    | (wave1_data.PSS_CHECK != 5) | (wave1_data.DEM_AGE != wave1_data.DEM_CHECK_4)\n",
    "\n",
    "check_col_assess_names = ['SSP_TAS_CHECK_WRONG','SSP_MOV_CHECK_WRONG','SSP_VIS_CHECK_WRONG','SSP_TCH_CHECK_WRONG',\\\n",
    "                                   'SSP_ACT_CHECK_WRONG','SSP_AUD_CHECK_WRONG', 'MASQ_CHECK_WRONG','MASQ_CHECK_2_WRONG','PSS_CHECK_WRONG','AGE_CHECK_WRONG']\n",
    "\n",
    "wave1_data['SSP_TAS_CHECK_WRONG'] = (wave1_data.SSP_TAS_CHECK != 5)\n",
    "wave1_data['SSP_MOV_CHECK_WRONG'] = (wave1_data.SSP_MOV_CHECK != 4)\n",
    "wave1_data['SSP_VIS_CHECK_WRONG'] = (wave1_data.SSP_VIS_CHECK != 2)\n",
    "wave1_data['SSP_TCH_CHECK_WRONG'] = (wave1_data.SSP_TCH_CHECK != 5)\n",
    "wave1_data['SSP_ACT_CHECK_WRONG'] = (wave1_data.SSP_ACT_CHECK != 3)\n",
    "wave1_data['SSP_AUD_CHECK_WRONG'] = (wave1_data.SSP_AUD_CHECK != 0)\n",
    "wave1_data['MASQ_CHECK_WRONG'] = (wave1_data.MASQ_CHECK != 4)\n",
    "wave1_data['MASQ_CHECK_2_WRONG'] = (wave1_data.MASQ_CHECK_2 != 1) \n",
    "wave1_data['PSS_CHECK_WRONG'] = (wave1_data.PSS_CHECK != 5)\n",
    "wave1_data['AGE_CHECK_WRONG'] = (wave1_data.DEM_AGE != wave1_data.DEM_CHECK_4)\n",
    "\n",
    "wave1_data['Num_Errs'] = wave1_data[check_col_assess_names].sum(axis =1)\n",
    "\n",
    "wave1_data['Rej'] = wave1_data['Num_Errs']>0\n",
    "#elim_data = wave1_data[['AssignmentId','HITId','WorkerId','AcceptTime','SubmitTime','WorkTimeInSeconds','SSP_TAS_CHECK','SSP_MOV_CHECK','SSP_VIS_CHECK',\\\n",
    "  #                      'SSP_TCH_CHECK','SSP_ACT_CHECK','SSP_AUD_CHECK','MASQ_CHECK','MASQ_CHECK_2','PSS_CHECK']]\n",
    "\n",
    "\n",
    "wave1_data['AGE_CHECK_WRONG']\n"
   ]
  },
  {
   "cell_type": "code",
   "execution_count": null,
   "metadata": {},
   "outputs": [],
   "source": [
    "import itertools\n",
    "a = [worker_dem_col_names,check_col_assess_names, ['Num_Errs','Rej']]\n",
    "out_cols = list(itertools.chain.from_iterable(a))\n",
    "out_cols"
   ]
  },
  {
   "cell_type": "code",
   "execution_count": null,
   "metadata": {},
   "outputs": [],
   "source": [
    "wave1_data[out_cols]"
   ]
  },
  {
   "cell_type": "code",
   "execution_count": null,
   "metadata": {},
   "outputs": [],
   "source": [
    "wave1_check = wave1_data[out_cols]"
   ]
  },
  {
   "cell_type": "code",
   "execution_count": null,
   "metadata": {},
   "outputs": [],
   "source": [
    "wave1_data.to_excel('/Users/adrianamendezleal/Documents/Data_Analysis/sensory_MTurk/Final_Wave1_Data_3_1_20/final_checks_3_1.xlsx')"
   ]
  },
  {
   "cell_type": "code",
   "execution_count": null,
   "metadata": {},
   "outputs": [],
   "source": [
    "wave1_check.to_excel('/Users/adrianamendezleal/Documents/Data_Analysis/sensory_MTurk//Final_Wave1_Data_3_1_20/final_batch_check.xlsx')\n"
   ]
  },
  {
   "cell_type": "code",
   "execution_count": null,
   "metadata": {},
   "outputs": [],
   "source": [
    "usable_data = pd.read_csv('/Users/adrianamendezleal/Documents/Data_Analysis/sensory_MTurk/Final_Wave1_Data_3_1_20/Presentation_data_old.csv',index_col =0,na_values = 999)"
   ]
  },
  {
   "cell_type": "code",
   "execution_count": null,
   "metadata": {},
   "outputs": [],
   "source": [
    "usable_data"
   ]
  },
  {
   "cell_type": "code",
   "execution_count": null,
   "metadata": {},
   "outputs": [],
   "source": [
    "#calculate GSQ scores\n",
    "usable_data['GSQ_tas_hyper_total'] = usable_data.loc[:,usable_data.columns.str.contains('tas_hyper')& ~usable_data.columns.str.contains('total')&~usable_data.columns.str.contains('rec')].sum(axis =1, skipna = True)\n",
    "usable_data['GSQ_tac_hyper_total'] = usable_data.loc[:,usable_data.columns.str.contains('tac_hyper')& ~usable_data.columns.str.contains('total')&~usable_data.columns.str.contains('rec')].sum(axis =1, skipna = True)\n",
    "usable_data['GSQ_aud_hyper_total'] = usable_data.loc[:,usable_data.columns.str.contains('aud_hyper')& ~usable_data.columns.str.contains('total')&~usable_data.columns.str.contains('rec')].sum(axis =1, skipna = True)\n",
    "usable_data['GSQ_vis_hyper_total'] = usable_data.loc[:,usable_data.columns.str.contains('vis_hyper')& ~usable_data.columns.str.contains('total')&~usable_data.columns.str.contains('rec')].sum(axis =1, skipna = True)\n",
    "usable_data['GSQ_sme_hyper_total'] = usable_data.loc[:,usable_data.columns.str.contains('sme_hyper')& ~usable_data.columns.str.contains('total')&~usable_data.columns.str.contains('rec')].sum(axis =1, skipna = True)\n",
    "usable_data['GSQ_ves_hyper_total'] = usable_data.loc[:,usable_data.columns.str.contains('ves_hyper')& ~usable_data.columns.str.contains('total')&~usable_data.columns.str.contains('rec')].sum(axis =1, skipna = True)\n",
    "usable_data['GSQ_pro_hyper_total'] = usable_data.loc[:,usable_data.columns.str.contains('pro_hyper')& ~usable_data.columns.str.contains('total')&~usable_data.columns.str.contains('rec')].sum(axis =1, skipna = True)\n",
    "\n",
    "usable_data['GSQ_hyper_total'] = usable_data['GSQ_tas_hyper_total'] +usable_data['GSQ_tac_hyper_total'] + usable_data['GSQ_aud_hyper_total'] +\\\n",
    "    usable_data['GSQ_vis_hyper_total'] + usable_data['GSQ_sme_hyper_total']+ usable_data['GSQ_ves_hyper_total'] + usable_data['GSQ_pro_hyper_total']\n"
   ]
  },
  {
   "cell_type": "code",
   "execution_count": null,
   "metadata": {},
   "outputs": [],
   "source": [
    "#calculate GSQ scores\n",
    "usable_data['GSQ_tas_hypo_total'] = usable_data.loc[:,usable_data.columns.str.contains('tas_hypo')& ~usable_data.columns.str.contains('total')&~usable_data.columns.str.contains('rec')].sum(axis =1, skipna = True)\n",
    "usable_data['GSQ_tac_hypo_total'] = usable_data.loc[:,usable_data.columns.str.contains('tac_hypo')& ~usable_data.columns.str.contains('total')&~usable_data.columns.str.contains('rec')].sum(axis =1, skipna = True)\n",
    "usable_data['GSQ_aud_hypo_total'] = usable_data.loc[:,usable_data.columns.str.contains('aud_hypo')& ~usable_data.columns.str.contains('total')&~usable_data.columns.str.contains('rec')].sum(axis =1, skipna = True)\n",
    "usable_data['GSQ_vis_hypo_total'] = usable_data.loc[:,usable_data.columns.str.contains('vis_hypo')& ~usable_data.columns.str.contains('total')&~usable_data.columns.str.contains('rec')].sum(axis =1, skipna = True)\n",
    "usable_data['GSQ_sme_hypo_total'] = usable_data.loc[:,usable_data.columns.str.contains('sme_hypo')& ~usable_data.columns.str.contains('total')&~usable_data.columns.str.contains('rec')].sum(axis =1, skipna = True)\n",
    "usable_data['GSQ_ves_hypo_total'] = usable_data.loc[:,usable_data.columns.str.contains('ves_hypo')& ~usable_data.columns.str.contains('total')&~usable_data.columns.str.contains('rec')].sum(axis =1, skipna = True)\n",
    "usable_data['GSQ_pro_hypo_total'] = usable_data.loc[:,usable_data.columns.str.contains('pro_hypo')& ~usable_data.columns.str.contains('total')&~usable_data.columns.str.contains('rec')].sum(axis =1, skipna = True)\n",
    "\n",
    "usable_data['GSQ_hypo_total'] = usable_data['GSQ_tas_hypo_total'] +usable_data['GSQ_tac_hypo_total'] + usable_data['GSQ_aud_hypo_total'] +\\\n",
    "    usable_data['GSQ_vis_hypo_total'] + usable_data['GSQ_sme_hypo_total']+ usable_data['GSQ_ves_hypo_total'] + usable_data['GSQ_pro_hypo_total']\n"
   ]
  },
  {
   "cell_type": "code",
   "execution_count": null,
   "metadata": {},
   "outputs": [],
   "source": [
    "#calculate GSQ scores\n",
    "usable_data['GSQ_rec_tas_hyper_total'] = usable_data.loc[:,usable_data.columns.str.contains('rec_tas_hyper')& ~usable_data.columns.str.contains('total')].sum(axis =1, skipna = True)\n",
    "usable_data['GSQ_rec_tac_hyper_total'] = usable_data.loc[:,usable_data.columns.str.contains('rec_tac_hyper')& ~usable_data.columns.str.contains('total')].sum(axis =1, skipna = True)\n",
    "usable_data['GSQ_rec_aud_hyper_total'] = usable_data.loc[:,usable_data.columns.str.contains('rec_aud_hyper')& ~usable_data.columns.str.contains('total')].sum(axis =1, skipna = True)\n",
    "usable_data['GSQ_rec_vis_hyper_total'] = usable_data.loc[:,usable_data.columns.str.contains('rec_vis_hyper')& ~usable_data.columns.str.contains('total')].sum(axis =1, skipna = True)\n",
    "usable_data['GSQ_rec_sme_hyper_total'] = usable_data.loc[:,usable_data.columns.str.contains('rec_sme_hyper')& ~usable_data.columns.str.contains('total')].sum(axis =1, skipna = True)\n",
    "usable_data['GSQ_rec_ves_hyper_total'] = usable_data.loc[:,usable_data.columns.str.contains('rec_ves_hyper')& ~usable_data.columns.str.contains('total')].sum(axis =1, skipna = True)\n",
    "usable_data['GSQ_rec_pro_hyper_total'] = usable_data.loc[:,usable_data.columns.str.contains('rec_pro_hyper')& ~usable_data.columns.str.contains('total')].sum(axis =1, skipna = True)\n",
    "\n",
    "usable_data['GSQ_rec_hyper_total'] = usable_data['GSQ_rec_tas_hyper_total'] +usable_data['GSQ_rec_tac_hyper_total'] + usable_data['GSQ_rec_aud_hyper_total'] +\\\n",
    "    usable_data['GSQ_rec_vis_hyper_total'] + usable_data['GSQ_rec_sme_hyper_total']+ usable_data['GSQ_rec_ves_hyper_total'] + usable_data['GSQ_rec_pro_hyper_total']\n"
   ]
  },
  {
   "cell_type": "code",
   "execution_count": null,
   "metadata": {},
   "outputs": [],
   "source": [
    "#calculate GSQ scores\n",
    "usable_data['GSQ_rec_tas_hypo_total'] = usable_data.loc[:,usable_data.columns.str.contains('rec_tas_hypo')& ~usable_data.columns.str.contains('total')].sum(axis =1, skipna = True)\n",
    "usable_data['GSQ_rec_tac_hypo_total'] = usable_data.loc[:,usable_data.columns.str.contains('rec_tac_hypo')& ~usable_data.columns.str.contains('total')].sum(axis =1, skipna = True)\n",
    "usable_data['GSQ_rec_aud_hypo_total'] = usable_data.loc[:,usable_data.columns.str.contains('rec_aud_hypo')& ~usable_data.columns.str.contains('total')].sum(axis =1, skipna = True)\n",
    "usable_data['GSQ_rec_vis_hypo_total'] = usable_data.loc[:,usable_data.columns.str.contains('rec_vis_hypo')& ~usable_data.columns.str.contains('total')].sum(axis =1, skipna = True)\n",
    "usable_data['GSQ_rec_sme_hypo_total'] = usable_data.loc[:,usable_data.columns.str.contains('rec_sme_hypo')& ~usable_data.columns.str.contains('total')].sum(axis =1, skipna = True)\n",
    "usable_data['GSQ_rec_ves_hypo_total'] = usable_data.loc[:,usable_data.columns.str.contains('rec_ves_hypo')& ~usable_data.columns.str.contains('total')].sum(axis =1, skipna = True)\n",
    "usable_data['GSQ_rec_pro_hypo_total'] = usable_data.loc[:,usable_data.columns.str.contains('rec_pro_hypo')& ~usable_data.columns.str.contains('total')].sum(axis =1, skipna = True)\n",
    "\n",
    "usable_data['GSQ_rec_hypo_total'] = usable_data['GSQ_rec_tas_hypo_total'] +usable_data['GSQ_rec_tac_hypo_total'] + usable_data['GSQ_rec_aud_hypo_total'] +\\\n",
    "    usable_data['GSQ_rec_vis_hypo_total'] + usable_data['GSQ_rec_sme_hypo_total']+ usable_data['GSQ_rec_ves_hypo_total'] + usable_data['GSQ_rec_pro_hypo_total']\n"
   ]
  },
  {
   "cell_type": "code",
   "execution_count": null,
   "metadata": {},
   "outputs": [],
   "source": [
    "usable_data['CTQ_emot_abuse_total'] =usable_data.CTQ_3+ usable_data.CTQ_8 + usable_data.CTQ_14 + usable_data.CTQ_18 +\\\n",
    "    usable_data.CTQ_25\n",
    "\n",
    "usable_data['CTQ_phys_abuse_total'] = usable_data.CTQ_9+ usable_data.CTQ_11 + usable_data.CTQ_12 + usable_data.CTQ_15 +\\\n",
    "    usable_data.CTQ_17\n",
    "\n",
    "usable_data['CTQ_sex_abuse_total'] = usable_data.CTQ_20+ usable_data.CTQ_21 + usable_data.CTQ_23 + usable_data.CTQ_24 +\\\n",
    "    usable_data.CTQ_27\n",
    "\n",
    "usable_data['CTQ_emot_neg_total'] = usable_data[['CTQ_5','CTQ_7','CTQ_13','CTQ_19','CTQ_28']].replace({1:5,2: 4, 3: 3,4:2,5:1}, inplace = False).sum(axis = 1, skipna = True)\n",
    "    \n",
    "usable_data['CTQ_phys_neg_total'] = usable_data.CTQ_1+ usable_data.CTQ_4 + usable_data.CTQ_6+\\\n",
    "    usable_data[['CTQ_2','CTQ_26']].replace({1:5,2: 4, 3: 3,4:2,5:1}, inplace = False).sum(axis = 1)\n",
    "\n",
    "\n",
    "usable_data['CTQ_denial_total'] = usable_data.CTQ_10+ usable_data.CTQ_16 + usable_data.CTQ_22 \n",
    "\n",
    "usable_data['CTQ_abuse_comp_total'] = usable_data['CTQ_emot_abuse_total']+ usable_data['CTQ_phys_abuse_total'] +usable_data['CTQ_sex_abuse_total']\n",
    "usable_data['CTQ_neg_comp_total'] = usable_data['CTQ_emot_neg_total']+ usable_data['CTQ_phys_neg_total']\n",
    "usable_data['CTQ_total'] = usable_data['CTQ_abuse_comp_total'] + usable_data['CTQ_neg_comp_total'] + usable_data['CTQ_denial_total'] \n"
   ]
  },
  {
   "cell_type": "code",
   "execution_count": null,
   "metadata": {},
   "outputs": [],
   "source": [
    "#mini MASQ general distress\n",
    "usable_data['MASQ_GD_total'] = usable_data[['MASQ_2', 'MASQ_3', 'MASQ_7', 'MASQ_12', 'MASQ_13', 'MASQ_17', 'MASQ_20', 'MASQ_21']].sum(axis =1, skipna = True)\n",
    "usable_data['MASQ_AA_total'] = usable_data[['MASQ_4', 'MASQ_6', 'MASQ_8', 'MASQ_10', 'MASQ_14', 'MASQ_16', 'MASQ_18', 'MASQ_22', 'MASQ_24', 'MASQ_2', 'MASQ_3', 'MASQ_7', 'MASQ_12', 'MASQ_13', 'MASQ_17', 'MASQ_20', 'MASQ_21', 'MASQ_26']].sum(axis =1, skipna = True)\n",
    "usable_data['MASQ_AD_total'] = usable_data[['MASQ_1', 'MASQ_9', 'MASQ_15', 'MASQ_19', 'MASQ_23', 'MASQ_25']].sum(axis =1, skipna = True)\n"
   ]
  },
  {
   "cell_type": "code",
   "execution_count": null,
   "metadata": {},
   "outputs": [],
   "source": [
    "usable_data['SSP_Sens_Avoid'] = usable_data[['SSP_TAS_1','SSP_TAS_5','SSP_MOV_3','SSP_VIS_2','SSP_VIS_8','SSP_VIS_10',\n",
    "                                         'SSP_TCH_3','SSP_TCH_9','SSP_TCH_12','SSP_ACT_4','SSP_ACT_7','SSP_ACT_10',\n",
    "                                         'SSP_AUD_4','SSP_AUD_7','SSP_AUD_8']].sum(axis = 1, skipna = True)\n",
    "\n",
    "usable_data['SSP_Low_Reg'] = usable_data[['SSP_TAS_3','SSP_TAS_6','SSP_MOV_4','SSP_MOV_7','SSP_VIS_5','SSP_VIS_7',\n",
    "                                         'SSP_TCH_10','SSP_TCH_11','SSP_TCH_13','SSP_ACT_2','SSP_ACT_5','SSP_ACT_6',\n",
    "                                         'SSP_AUD_3','SSP_AUD_6','SSP_AUD_10']].sum(axis = 1, skipna = True)\n",
    "\n",
    "usable_data['SSP_Sens_Seek'] = usable_data[['SSP_TAS_2','SSP_TAS_4','SSP_TAS_8','SSP_MOV_2','SSP_MOV_6','SSP_VIS_1',\n",
    "                                         'SSP_VIS_3','SSP_TCH_2','SSP_TCH_4','SSP_TCH_6','SSP_ACT_1','SSP_ACT_3',\n",
    "                                         'SSP_ACT_8','SSP_AUD_1','SSP_AUD_9']].sum(axis = 1, skipna = True)\n",
    "\n",
    "usable_data['SSP_Sens_Sensitivity'] = usable_data[['SSP_TAS_7','SSP_MOV_1','SSP_MOV_5','SSP_MOV_8','SSP_VIS_4','SSP_VIS_6',\n",
    "                                         'SSP_VIS_9','SSP_TCH_1','SSP_TCH_5','SSP_TCH_7','SSP_ACT_8','SSP_ACT_9',\n",
    "                                         'SSP_AUD_2','SSP_AUD_5','SSP_AUD_11']].sum(axis = 1, skipna = True)\n"
   ]
  },
  {
   "cell_type": "code",
   "execution_count": null,
   "metadata": {},
   "outputs": [],
   "source": [
    "usable_data.loc[:,usable_data.columns.str.contains('PSS')&~usable_data.columns.str.contains('total') &~usable_data.columns.str.contains('CHECK')] = usable_data.loc[:,usable_data.columns.str.contains('PSS')&~usable_data.columns.str.contains('total') &~usable_data.columns.str.contains('CHECK')].replace({1:0,2: 1, 3: 2,4:3,5:4})\n",
    "\n",
    "usable_data.loc[:,usable_data.columns.str.contains('PSS')&~usable_data.columns.str.contains('total') &~usable_data.columns.str.contains('CHECK')]\n",
    "\n"
   ]
  },
  {
   "cell_type": "code",
   "execution_count": null,
   "metadata": {},
   "outputs": [],
   "source": [
    "usable_data[add_pref_to_item_nums('PSS', ['4_rc','5_rc','7_rc','8_rc'])] =  usable_data[add_pref_to_item_nums('PSS_', [4,5,7,8])].replace({0:4,1: 3, 2: 2,3:1,4:0})\n",
    "\n",
    "\n",
    "\n",
    "usable_data['PSS_total'] = usable_data[add_pref_to_item_nums('PSS_', [1,2,3,6,9,10])].sum(axis = 1, skipna = True) + \\\n",
    "    usable_data[add_pref_to_item_nums('PSS', ['4_rc','5_rc','7_rc','8_rc'])].sum(axis = 1, skipna = True)\n",
    "\n"
   ]
  },
  {
   "cell_type": "code",
   "execution_count": null,
   "metadata": {},
   "outputs": [],
   "source": [
    "usable_data[usable_data.index.notna()][add_pref_to_item_nums('PSS', ['_4','_5','_7','_8','4_rc','5_rc','7_rc','8_rc'])]"
   ]
  },
  {
   "cell_type": "code",
   "execution_count": null,
   "metadata": {},
   "outputs": [],
   "source": [
    "usable_data['PSS_total'].describe()"
   ]
  },
  {
   "cell_type": "code",
   "execution_count": null,
   "metadata": {},
   "outputs": [],
   "source": [
    "usable_data.DEM_INC.describe()"
   ]
  },
  {
   "cell_type": "code",
   "execution_count": null,
   "metadata": {},
   "outputs": [],
   "source": [
    "usable_data.to_csv ('/Users/adrianamendezleal/Documents/Data_Analysis/sensory_MTurk/Final_Wave1_Data_3_1_20/Presentation_data_w_calcs.csv')\n"
   ]
  },
  {
   "cell_type": "code",
   "execution_count": 4,
   "metadata": {},
   "outputs": [
    {
     "name": "stdout",
     "output_type": "stream",
     "text": [
      "12.079831932773109\n"
     ]
    }
   ],
   "source": [
    "data_for_fp = pd.read_csv('/Users/adrianamendezleal/Documents/Data_Analysis/sensory_MTurk/Final_Wave1_Data_3_1_20/Presentation_data_w_calcs.csv', index_col = 0)\n",
    "data_for_fp.index.name ='SUB_ID'\n",
    "print(data_for_fp.GSQ_hyper_total.mean())\n",
    "\n",
    "cols_of_int = ['CTQ_total','DEM_AGE','PSS_total','GSQ_hyper_total','MASQ_GD_total']\n",
    "\n",
    "for curr_col_of_int in cols_of_int:\n",
    "    data_for_fp[curr_col_of_int+'_mc'] = data_for_fp[curr_col_of_int] - data_for_fp[curr_col_of_int].mean()\n",
    "\n",
    "data_for_fp['Sex'] = data_for_fp['DEM_SEX']\n",
    "\n",
    "just_plot_data = data_for_fp[['CTQ_total','DEM_SEX','DEM_AGE',\n",
    "       'PSS_total', 'GSQ_hyper_total']]\n",
    "\n",
    "just_plot_data.columns = ['CTQ','Female','Age','PSS','GSQ']\n",
    "\n",
    "data_for_fp =data_for_fp[['CTQ_total', 'Sex','DEM_AGE_mc', 'PSS_total_mc', 'GSQ_hyper_total','MASQ_GD_total']]\n",
    "data_for_fp = data_for_fp.dropna()\n",
    "#data_for_fp.to_csv('/Users/adrianamendezleal/Documents/Data_Analysis/sensory_MTurk/Final_Wave1_Data_3_1_20/M234_FP_mean_centered.csv')"
   ]
  },
  {
   "cell_type": "code",
   "execution_count": null,
   "metadata": {},
   "outputs": [],
   "source": []
  },
  {
   "cell_type": "code",
   "execution_count": null,
   "metadata": {},
   "outputs": [],
   "source": []
  },
  {
   "cell_type": "code",
   "execution_count": null,
   "metadata": {},
   "outputs": [],
   "source": [
    "hi = pd.DataFrame(round(data_for_fp[['CTQ_total_floor_center', 'DEM_AGE',\n",
    "       'PSS_total', 'GSQ_hyper_total']].mean(),2).astype(str) + \" (\" + round(data_for_fp[['CTQ_total_floor_center', 'DEM_AGE',\n",
    "       'PSS_total', 'GSQ_hyper_total']].std(),2).astype(str) + ')')\n",
    "hi\n"
   ]
  },
  {
   "cell_type": "code",
   "execution_count": null,
   "metadata": {},
   "outputs": [],
   "source": [
    "pd.DataFrame(round(data_for_fp[['CTQ_total_floor_center', 'DEM_AGE',\n",
    "       'PSS_total', 'GSQ_hyper_total']].max(),2))"
   ]
  },
  {
   "cell_type": "code",
   "execution_count": null,
   "metadata": {},
   "outputs": [],
   "source": [
    "(data_for_fp.groupby('DEM_SEX').count()/len(data_for_fp))*100"
   ]
  },
  {
   "cell_type": "code",
   "execution_count": null,
   "metadata": {},
   "outputs": [],
   "source": [
    "cols_of_interest = ['CTQ_total_floor_center', 'DEM_AGE',\n",
    "       'PSS_total', 'GSQ_hyper_total']\n",
    "out_df = pd.DataFrame()\n",
    "holder_df = pd.DataFrame()\n",
    "\n",
    "for curr_col in cols_of_interest:\n",
    "    \n",
    "    holder_df [curr_col + '_mean'] = round(data_for_fp[[curr_col]].astype(float).mean(),2)\n",
    "    holder_df [curr_col + '_std'] = round(data_for_fp[[curr_col]].astype(float).std(),2)\n",
    "    \n",
    "    out_df[curr_col + 'for_table'] = holder_df[curr_col + '_mean'].astype(str) + \" (\" + holder_df [curr_col + '_std'].astype(str) + ')'\n",
    "    \n",
    "out_df.T"
   ]
  },
  {
   "cell_type": "code",
   "execution_count": null,
   "metadata": {},
   "outputs": [],
   "source": [
    "round(just_plot_data[just_plot_data.index.notna()].describe().T,3)\n"
   ]
  },
  {
   "cell_type": "code",
   "execution_count": null,
   "metadata": {},
   "outputs": [],
   "source": [
    "sns.set_style(\"whitegrid\", {'axes.grid' : False})\n",
    "sns.set(font_scale=1.3)\n",
    "sns.pairplot(just_plot_data)"
   ]
  },
  {
   "cell_type": "code",
   "execution_count": null,
   "metadata": {},
   "outputs": [],
   "source": [
    "usable_data.loc[:,usable_data.columns.str.contains('PSS')&~usable_data.columns.str.contains('total') &~usable_data.columns.str.contains('CHECK')] "
   ]
  },
  {
   "cell_type": "code",
   "execution_count": null,
   "metadata": {},
   "outputs": [],
   "source": [
    "plt.figure(figsize= (10,10))\n",
    "\n",
    "sns.scatterplot(x = 'CTQ_total_floor_center', y = 'GSQ_hyper_total', data = data_for_fp, hue = 'PSS_total', palette = 'Blues')"
   ]
  },
  {
   "cell_type": "code",
   "execution_count": null,
   "metadata": {},
   "outputs": [],
   "source": [
    "\n",
    "reg1_data =  data_for_fp\n",
    "X = reg1_data[['CTQ_total_floor_center', 'DEM_AGE_floor_center','DEM_SEX','PSS_total']]\n",
    "y = reg1_data['GSQ_hyper_total']\n",
    "\n",
    "X = sm.add_constant(X)\n",
    "est = sm.OLS(y, X).fit()\n",
    "est.summary()"
   ]
  },
  {
   "cell_type": "code",
   "execution_count": 64,
   "metadata": {},
   "outputs": [
    {
     "data": {
      "text/plain": [
       "<seaborn.axisgrid.JointGrid at 0x12dd1d090>"
      ]
     },
     "execution_count": 64,
     "metadata": {},
     "output_type": "execute_result"
    },
    {
     "data": {
      "text/plain": [
       "<Figure size 1080x1080 with 0 Axes>"
      ]
     },
     "metadata": {},
     "output_type": "display_data"
    },
    {
     "data": {
      "image/png": "[encoded data removed]",
      "text/plain": [
       "<Figure size 720x720 with 3 Axes>"
      ]
     },
     "metadata": {},
     "output_type": "display_data"
    }
   ],
   "source": [
    "usable_data = data_for_fp\n",
    "\n",
    "sns.set_style(\"whitegrid\", {'axes.grid' : False})\n",
    "\n",
    "xlim_CTQ = (30,105)\n",
    "ylim_GSQ = (-1,65)\n",
    "plt.figure(figsize= (15,15))\n",
    "#g = sns.jointplot(x = 'CTQ_total', y = 'GSQ_hyper_total', \\\n",
    "#                  data = usable_data, hue = 'MASQ_GD_total', palette = 'rocket_r',\\\n",
    "#                  xlim= xlim_CTQ,ylim = ylim_GSQ,height = 10,kind = 'scatter',\\\n",
    " #                 marker = 'o',legend = None,joint_kws={'s':75})\n",
    "\n",
    "#g.plot(sns.scatterplot, sns.histplot)\n",
    "\n",
    "g = sns.JointGrid(x = 'CTQ_total', y = 'GSQ_hyper_total', \\\n",
    "                  data = usable_data, hue = 'MASQ_GD_total', palette = 'rocket_r', height = 10,\\\n",
    "                  xlim= xlim_CTQ,ylim = ylim_GSQ)\n",
    "\n",
    "g.plot_joint(sns.scatterplot, s=75,legend = 'full')\n",
    "g.plot_marginals(sns.histplot, kde=False,stat='probability',hue= 'MASQ_GD_total')\n",
    "\n"
   ]
  },
  {
   "cell_type": "code",
   "execution_count": 59,
   "metadata": {},
   "outputs": [
    {
     "data": {
      "text/html": [
       "<svg  width=\"330\" height=\"55\"><rect x=\"0\" y=\"0\" width=\"55\" height=\"55\" style=\"fill:#f6b48f;stroke-width:2;stroke:rgb(255,255,255)\"/><rect x=\"55\" y=\"0\" width=\"55\" height=\"55\" style=\"fill:#f37651;stroke-width:2;stroke:rgb(255,255,255)\"/><rect x=\"110\" y=\"0\" width=\"55\" height=\"55\" style=\"fill:#e13342;stroke-width:2;stroke:rgb(255,255,255)\"/><rect x=\"165\" y=\"0\" width=\"55\" height=\"55\" style=\"fill:#ad1759;stroke-width:2;stroke:rgb(255,255,255)\"/><rect x=\"220\" y=\"0\" width=\"55\" height=\"55\" style=\"fill:#701f57;stroke-width:2;stroke:rgb(255,255,255)\"/><rect x=\"275\" y=\"0\" width=\"55\" height=\"55\" style=\"fill:#35193e;stroke-width:2;stroke:rgb(255,255,255)\"/></svg>"
      ],
      "text/plain": [
       "[(0.96516917, 0.70776351, 0.5606593),\n",
       " (0.95381595, 0.46373781, 0.31769923),\n",
       " (0.8833417, 0.19830556, 0.26014181),\n",
       " (0.67824099, 0.09192342, 0.3504148),\n",
       " (0.43860848, 0.12177004, 0.34119475),\n",
       " (0.20973515, 0.09747934, 0.24238489)]"
      ]
     },
     "execution_count": 59,
     "metadata": {},
     "output_type": "execute_result"
    }
   ],
   "source": [
    "palette_use= sns.color_palette(\"rocket_r\")\n",
    "palette_use"
   ]
  },
  {
   "cell_type": "code",
   "execution_count": 62,
   "metadata": {},
   "outputs": [
    {
     "data": {
      "text/plain": [
       "<seaborn.axisgrid.JointGrid at 0x127e0f910>"
      ]
     },
     "execution_count": 62,
     "metadata": {},
     "output_type": "execute_result"
    },
    {
     "data": {
      "text/plain": [
       "<Figure size 1080x1080 with 0 Axes>"
      ]
     },
     "metadata": {},
     "output_type": "display_data"
    },
    {
     "data": {
      "image/png": "[encoded data removed]",
      "text/plain": [
       "<Figure size 720x720 with 3 Axes>"
      ]
     },
     "metadata": {},
     "output_type": "display_data"
    }
   ],
   "source": [
    "usable_data = data_for_fp\n",
    "palette_use= sns.color_palette(\"rocket_r\")\n",
    "palette_use_col = palette_use[5]\n",
    "sns.set_style(\"whitegrid\", {'axes.grid' : False})\n",
    "\n",
    "xlim_CTQ = (30,105)\n",
    "ylim_GSQ = (-1,65)\n",
    "plt.figure(figsize= (15,15))\n",
    "#g = sns.jointplot(x = 'CTQ_total', y = 'GSQ_hyper_total', \\\n",
    "#                  data = usable_data, hue = 'MASQ_GD_total', palette = 'rocket_r',\\\n",
    "#                  xlim= xlim_CTQ,ylim = ylim_GSQ,height = 10,kind = 'scatter',\\\n",
    " #                 marker = 'o',legend = None,joint_kws={'s':75})\n",
    "\n",
    "#g.plot(sns.scatterplot, sns.histplot)\n",
    "\n",
    "g = sns.JointGrid(x = 'CTQ_total', y = 'GSQ_hyper_total', \\\n",
    "                  data = usable_data,  palette = 'rocket_r', height = 10,\\\n",
    "                  xlim= xlim_CTQ,ylim = ylim_GSQ)\n",
    "\n",
    "g.plot_joint(sns.regplot,scatter_kws = {'s':0},color = palette_use_col)\n",
    "g.plot_marginals(sns.histplot, kde=False,stat='probability')\n",
    "\n"
   ]
  },
  {
   "cell_type": "code",
   "execution_count": 43,
   "metadata": {},
   "outputs": [
    {
     "data": {
      "text/plain": [
       "<seaborn.axisgrid.JointGrid at 0x136a396d0>"
      ]
     },
     "execution_count": 43,
     "metadata": {},
     "output_type": "execute_result"
    },
    {
     "data": {
      "image/png": "[encoded data removed]",
      "text/plain": [
       "<Figure size 432x432 with 3 Axes>"
      ]
     },
     "metadata": {},
     "output_type": "display_data"
    }
   ],
   "source": [
    "sns.set_style(\"whitegrid\", {'axes.grid' : False})\n",
    "g =sns.jointplot( x= 'CTQ_total',y = 'GSQ_hyper_total', data = usable_data,kind = 'reg')\n",
    "g.ax_marg_x.set_xlim(30,None)\n",
    "g.ax_marg_y.set_ylim(5,None)\n",
    "g.set_axis_labels('Early Life Adversity (CTQ)', 'General Distress (MASQ)', fontsize=16)\n"
   ]
  },
  {
   "cell_type": "code",
   "execution_count": null,
   "metadata": {},
   "outputs": [],
   "source": [
    "reg1_data = reg_data = usable_data[usable_data.CTQ_total.notna() & usable_data.DEM_AGE.notna() & usable_data.DEM_SEX.notna() & usable_data.MASQ_GD_total.notna()]\n",
    "X = reg1_data[['CTQ_total', 'DEM_AGE','DEM_SEX','PSS_total']]\n",
    "y = reg1_data['GSQ_hyper_total']\n",
    "\n",
    "X = sm.add_constant(X)\n",
    "est = sm.OLS(y, X).fit()\n",
    "est.summary()"
   ]
  },
  {
   "cell_type": "code",
   "execution_count": null,
   "metadata": {},
   "outputs": [],
   "source": [
    "reg_data = usable_data[usable_data.CTQ_total.notna() & usable_data.DEM_AGE.notna() & usable_data.DEM_SEX.notna() & usable_data.GSQ_hyper_total.notna()]\n",
    "\n",
    "\n",
    "import statsmodels.api as sm\n",
    "X = reg_data[['CTQ_total', 'DEM_AGE','DEM_SEX',]]\n",
    "y = reg_data['SSP_Sens_Sensitivity']\n",
    "\n",
    "X = sm.add_constant(X)\n",
    "est = sm.OLS(y, X).fit()\n",
    "est.summary()"
   ]
  },
  {
   "cell_type": "code",
   "execution_count": null,
   "metadata": {},
   "outputs": [],
   "source": []
  }
 ],
 "metadata": {
  "kernelspec": {
   "display_name": "Python 3",
   "language": "python",
   "name": "python3"
  },
  "language_info": {
   "codemirror_mode": {
    "name": "ipython",
    "version": 3
   },
   "file_extension": ".py",
   "mimetype": "text/x-python",
   "name": "python",
   "nbconvert_exporter": "python",
   "pygments_lexer": "ipython3",
   "version": "3.7.4"
  }
 },
 "nbformat": 4,
 "nbformat_minor": 2
}
